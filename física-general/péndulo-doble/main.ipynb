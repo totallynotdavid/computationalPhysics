{
 "cells": [
  {
   "cell_type": "code",
   "execution_count": 1,
   "metadata": {},
   "outputs": [
    {
     "data": {
      "image/png": "[encoded data removed]",
      "text/plain": [
       "<Figure size 640x480 with 1 Axes>"
      ]
     },
     "metadata": {},
     "output_type": "display_data"
    }
   ],
   "source": [
    "import numpy as np\n",
    "import matplotlib.pyplot as plt\n",
    "import matplotlib.animation as animation\n",
    "\n",
    "def metodo_euler(theta1_0, theta2_0, theta1_punto_0, theta2_punto_0, m1, m2, l1, l2, g, b, dt, num_pasos):\n",
    "    # Arrays para almacenar los valores de theta1, theta2, theta1_punto y theta2_punto\n",
    "    theta1 = np.zeros(num_pasos)\n",
    "    theta2 = np.zeros(num_pasos)\n",
    "    theta1_punto = np.zeros(num_pasos)\n",
    "    theta2_punto = np.zeros(num_pasos)\n",
    "\n",
    "    # Asignar valores iniciales\n",
    "    theta1[0] = theta1_0\n",
    "    theta2[0] = theta2_0\n",
    "    theta1_punto[0] = theta1_punto_0\n",
    "    theta2_punto[0] = theta2_punto_0\n",
    "\n",
    "    # Iterar para cada paso de tiempo\n",
    "    for i in range(1, num_pasos):\n",
    "        # Calcular las derivadas en el paso de tiempo actual\n",
    "        theta1_punto_punto = (-m2*l2/(l1*(m1+m2)) * np.cos(theta1[i-1] - theta2[i-1]) * theta2_punto[i-1]**2\n",
    "                             - g/l1 * np.sin(theta1[i-1]) + b/(l1*(m1+m2)) * theta1[i-1])\n",
    "        theta2_punto_punto = (-l1/l2 * np.cos(theta1[i-1] - theta2[i-1]) * theta1_punto[i-1]**2\n",
    "                             - g/l2 * np.sin(theta2[i-1]) + b/(m2*l2) * theta2[i-1])\n",
    "\n",
    "        # Actualizar los valores en el paso de tiempo actual utilizando el método de Euler\n",
    "        theta1[i] = theta1[i-1] + theta1_punto[i-1] * dt\n",
    "        theta2[i] = theta2[i-1] + theta2_punto[i-1] * dt\n",
    "        theta1_punto[i] = theta1_punto[i-1] + theta1_punto_punto * dt\n",
    "        theta2_punto[i] = theta2_punto[i-1] + theta2_punto_punto * dt\n",
    "\n",
    "    return theta1, theta2\n",
    "\n",
    "# Parámetros del sistema\n",
    "m1 = 1.0\n",
    "m2 = 2.0\n",
    "l1 = 1.0\n",
    "l2 = 2.0\n",
    "g = 9.81\n",
    "b = -2.5\n",
    "\n",
    "# Valores iniciales\n",
    "theta1_0 = 0.1\n",
    "theta2_0 = 0.2\n",
    "theta1_punto_0 = 0.0\n",
    "theta2_punto_0 = 0.0\n",
    "\n",
    "# Parámetros de integración\n",
    "dt = 0.01  # Paso de tiempo\n",
    "num_pasos = 1000  # Número de pasos de tiempo\n",
    "\n",
    "# Obtener solución numérica\n",
    "theta1, theta2 = metodo_euler(theta1_0, theta2_0, theta1_punto_0, theta2_punto_0, m1, m2, l1, l2, g, b, dt, num_pasos)\n",
    "\n",
    "# Generar animación\n",
    "fig, ax = plt.subplots()\n",
    "\n",
    "# Posiciones de los péndulos\n",
    "x1 = l1 * np.sin(theta1)\n",
    "y1 = -l1 * np.cos(theta1)\n",
    "x2 = x1 + l2 * np.sin(theta2)\n",
    "y2 = y1 - l2 * np.cos(theta2)\n",
    "\n",
    "# Dibujar líneas de los péndulos y el camino del segundo péndulo\n",
    "line, = ax.plot([], [], 'o-', lw=2)\n",
    "path, = ax.plot([], [], 'r-', lw=1)\n",
    "\n",
    "# Actualizar las líneas en cada paso de tiempo\n",
    "def update(i):\n",
    "    ax.clear()\n",
    "\n",
    "    ax.plot([0, x1[i], x2[i]], [0, y1[i], y2[i]], 'o-', lw=2)\n",
    "    ax.plot(x2[:i+1], y2[:i+1], 'r-', lw=1)\n",
    "    \n",
    "    ax.set_xlim(-l1-l2-0.5, l1+l2+0.5)\n",
    "    ax.set_ylim(-l1-l2-0.5, l1+l2+0.5)\n",
    "\n",
    "    ax.set_aspect('equal', 'box')\n",
    "\n",
    "ani = animation.FuncAnimation(fig, update, frames=num_pasos, interval=dt*1000, repeat=False)\n",
    "ani.save('pendulo.mp4', writer='ffmpeg', fps=60)\n",
    "plt.show()"
   ]
  },
  {
   "cell_type": "code",
   "execution_count": null,
   "metadata": {},
   "outputs": [],
   "source": []
  }
 ],
 "metadata": {
  "kernelspec": {
   "display_name": "Python 3",
   "language": "python",
   "name": "python3"
  },
  "language_info": {
   "codemirror_mode": {
    "name": "ipython",
    "version": 3
   },
   "file_extension": ".py",
   "mimetype": "text/x-python",
   "name": "python",
   "nbconvert_exporter": "python",
   "pygments_lexer": "ipython3",
   "version": "3.10.9"
  },
  "orig_nbformat": 4
 },
 "nbformat": 4,
 "nbformat_minor": 2
}
