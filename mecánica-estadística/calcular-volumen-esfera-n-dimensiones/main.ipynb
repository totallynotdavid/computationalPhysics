{
 "cells": [
  {
   "attachments": {},
   "cell_type": "markdown",
   "metadata": {},
   "source": [
    "# Volumen de la hiperesfera de n-dimensiones\n",
    "\n",
    "Autor: David Duran<br>\n",
    "Año: 2023"
   ]
  },
  {
   "attachments": {},
   "cell_type": "markdown",
   "metadata": {},
   "source": [
    "## Derivación\n",
    "\n",
    "### Caso bidimensional\n",
    "\n",
    "Partimos del área de la función gaussiana: $e^{-x^2}$. Integremos, por ahora elevemos la integral al cuadrado:\n",
    "\n",
    "$$\n",
    "\\left(\\int_{-\\infty}^{\\infty} e^{-x^2} d x\\right)^2=\\left(\\int_{-\\infty}^{\\infty} e^{-x_1^2} d x_1\\right)\\left(\\int_{-\\infty}^{\\infty} e^{-x_2^2} d x_2\\right)=\\int_{-\\infty}^{\\infty} \\int_{-\\infty}^{\\infty} e^{-\\left(x_1^2+x_2^2\\right)} d x_1 d x_2=\\pi\n",
    "$$\n",
    "\n",
    "Trabajando con coordenadas polares $(r, \\theta)$ en vez de cartesianas $\\left(x_1, x_2\\right)$. Reemplazando con:\n",
    "\n",
    "$$\n",
    "x_1^2+x_2^2=r^2;\\quad x_1=r \\sin \\theta;\\quad x_2=r \\cos \\theta\n",
    "$$\n",
    "\n",
    "Obtenemos: \n",
    "\n",
    "$$\n",
    "\\int_{-\\infty}^{\\infty} \\int_{-\\infty}^{\\infty} e^{-\\left(x_1^2+x_2^2\\right)} d x_1 d x_2=\\int_{r=0}^{\\infty} \\int_{\\theta=0}^{2 \\pi} e^{-r^2} r d r d \\theta = \\int_{u=0}^{\\infty} \\int_{\\theta=0}^{2 \\pi} e^{-u} \\frac{1}{2} d u d \\theta=\\frac{1}{2} \\int_0^{2 \\pi} d \\theta \\int_0^{\\infty} e^{-u} d u =\\frac{1}{2} \\cdot 2 \\pi \\cdot\\left(-e^{-u}\\right)_0^{\\infty}= \\pi\n",
    "$$"
   ]
  },
  {
   "attachments": {},
   "cell_type": "markdown",
   "metadata": {},
   "source": [
    "Por lo tanto: $$\\left(\\int_{-\\infty}^{\\infty} e^{-x^2} d x\\right)^2 = \\pi$$"
   ]
  },
  {
   "attachments": {},
   "cell_type": "markdown",
   "metadata": {},
   "source": [
    "La integral de la gaussiana es $\\sqrt{\\pi}$."
   ]
  },
  {
   "attachments": {},
   "cell_type": "markdown",
   "metadata": {},
   "source": [
    "### Caso tridimensional\n",
    "\n",
    "Elevemos la integral al cubo esta vez.\n",
    "\n",
    "$$\n",
    "\\left(\\int_{-\\infty}^{\\infty} e^{-x^2} d x\\right)^3=\\left(\\int_{-\\infty}^{\\infty} e^{-x^2} d x_1\\right)\\left(\\int_{-\\infty}^{\\infty} e^{-x_2^2} d x_2\\right)\\left(\\int_{-\\infty}^{\\infty} e^{-x_1^2} d x_3\\right)=\\int_{-\\infty}^{\\infty} \\int_{-\\infty}^{\\infty} e^{-\\left(x_1^2+x_1^2+x_3^2\\right)} d x_1 d x_2 d x_3\n",
    "$$\n",
    "\n",
    "Pasemos de trabajar en coordenadas polares $\\left(x_1, x_2, x_3\\right)_0$ a coordenadas esféricas $(r, \\theta, \\varphi)$\n",
    "$$\n",
    "\\left(x_1^2+x_2^2+x_3^2\\right)=r^2; \\quad d x_1 d x_2 d x_3=r^2 \\sin \\theta d r d \\theta d \\varphi=r^2 d r d \\Omega_2 \\\\\n",
    "$$\n",
    "Reemplazando\n",
    "$$\n",
    "\\iiint e^{-\\left(x_1^2+x_2^2+x_3^2\\right)} d x_1 d x_2 d x_3=\\underbrace{\\int e^{-r^2} r^2 d r}_{\\frac{\\sqrt{\\pi}}{4}} \\underbrace{\\int d \\Omega_2}_{4 \\pi}=(\\sqrt{\\pi})^3\n",
    "$$"
   ]
  },
  {
   "attachments": {},
   "cell_type": "markdown",
   "metadata": {},
   "source": [
    "### Caso n-dimensional\n",
    "\n",
    "$$\n",
    "\\left(\\int_{-\\infty}^{\\infty} e^{-x^2} d x\\right)^n=\\int_{-\\infty}^{\\infty} e^{-x_1^2} d x_1 \\cdots \\int_{-\\infty}^{\\infty} e^{-x_n^2} d x_n=\\int_{-\\infty}^{\\infty} \\cdots \\int_{-\\infty}^{\\infty} e^{-\\left(x_1^2+\\cdots+x_n^2\\right)} d x_1 \\cdots d x_n\n",
    "$$\n",
    "\n",
    "Notemos que: $$x_1^2+\\cdots+x_n^2=r^2$$.\n",
    "\n",
    "Ahora, reescribiendo la integral: \n",
    "\n",
    "$$\n",
    "\\int_{-\\infty}^{\\infty} e^{-r^2} r^{n-1} \\int_{\\text{n-esfera}} d \\Omega_{n-1}\n",
    "$$\n",
    "\n",
    "Veámoslo por partes:\n",
    "\n",
    "$$\n",
    "\\int_{-\\infty}^{\\infty} e^{-r^2} r^{n-1} =\\frac{1}{2} \\Gamma\\left(\\frac{n}{2}\\right)\n",
    "$$\n",
    "\n",
    "Para área de la superficie $S_n$:\n",
    "\n",
    "$$\n",
    "S_n \\cdot \\frac{1}{2} \\Gamma\\left(\\frac{n}{2}\\right)=\\pi^{n / 2} \\Rightarrow S_n=\\frac{\\pi^{n / 2}}{\\frac{1}{2} \\Gamma\\left(\\frac{n}{2}\\right)} \\Rightarrow S_n(r)=\\frac{\\pi^{n / 2} r^{n-1}}{\\frac{1}{2} \\Gamma\\left(\\frac{n}{2}\\right)}\n",
    "$$\n",
    "\n",
    "Para el volumen $V_n$:\n",
    "\n",
    "$$\n",
    "V_n(r) =\\int S_n(r) d r=S_n \\int r^{n-1} d r=\\frac{S_n r^n}{n}=\\frac{\\pi^{n / 2} r^n}{\\frac{n}{2} \\Gamma\\left(\\frac{n}{2}\\right)}=\\frac{\\pi^{n / 2} r^n}{\\Gamma\\left(\\frac{n}{2}+1\\right)}\n",
    "$$\n",
    "\n",
    "Finalmente, para el caso de una esfera n-dimensional con $r=1$. El volumen será $\\frac{\\pi^{n / 2}}{\\Gamma\\left(\\frac{n}{2}+1\\right)}$"
   ]
  },
  {
   "attachments": {},
   "cell_type": "markdown",
   "metadata": {},
   "source": [
    "## Cálculo numérico"
   ]
  },
  {
   "cell_type": "code",
   "execution_count": 1,
   "metadata": {},
   "outputs": [],
   "source": [
    "# Importar paquetes\n",
    "import matplotlib.pyplot as plt\n",
    "import numpy as np\n",
    "import numba as nb\n",
    "from ipywidgets import interact, IntSlider"
   ]
  },
  {
   "cell_type": "code",
   "execution_count": 2,
   "metadata": {},
   "outputs": [],
   "source": [
    "@nb.jit(nopython=True)\n",
    "def volumen_hiperesfera(dim, Nsample=1000000):\n",
    "    hits = 0\n",
    "    for n in range(Nsample):\n",
    "        punto = np.random.uniform(-1.0, 1.0, dim)\n",
    "        radio_cuadrado = np.sum(punto**2)\n",
    "        if radio_cuadrado <= 1.0:\n",
    "            hits += 1\n",
    "    return hits * (2.0 ** dim / Nsample)"
   ]
  },
  {
   "cell_type": "code",
   "execution_count": 3,
   "metadata": {},
   "outputs": [],
   "source": [
    "@nb.jit(nopython=True)\n",
    "def calcular_volumenes(dim, sample_sizes):\n",
    "    volumes = np.zeros(len(sample_sizes))\n",
    "    for i, Nsample in enumerate(sample_sizes):\n",
    "        volumes[i] = volumen_hiperesfera(dim, Nsample)\n",
    "    return volumes"
   ]
  },
  {
   "cell_type": "code",
   "execution_count": 4,
   "metadata": {},
   "outputs": [],
   "source": [
    "def plot_volumen(dim, Nsample):\n",
    "    plt.figure(figsize=(8, 6))\n",
    "    samples = np.array([10, 100, 1000, 10000, 100000, 1000000])\n",
    "    volumes = calcular_volumenes(dim, samples)\n",
    "    plt.plot(samples, volumes, marker=\"o\")\n",
    "    plt.xscale(\"log\")\n",
    "    plt.xlabel(\"Número de muestras (escala logarítmica)\")\n",
    "    plt.ylabel(\"Volumen estimado\")\n",
    "    plt.title(f\"Volumen de la hiperesfera {dim}-dimensional\")\n",
    "    plt.grid()\n",
    "    plt.show()"
   ]
  },
  {
   "cell_type": "code",
   "execution_count": 5,
   "metadata": {},
   "outputs": [
    {
     "data": {
      "application/vnd.jupyter.widget-view+json": {
       "model_id": "f87f7a951e494d8b8ad1289c31094e4f",
       "version_major": 2,
       "version_minor": 0
      },
      "text/plain": [
       "interactive(children=(IntSlider(value=4, description='Dimensiones', max=10, min=2), IntSlider(value=10000, des…"
      ]
     },
     "metadata": {},
     "output_type": "display_data"
    },
    {
     "data": {
      "text/plain": [
       "<function __main__.plot_volumen(dim, Nsample)>"
      ]
     },
     "execution_count": 5,
     "metadata": {},
     "output_type": "execute_result"
    }
   ],
   "source": [
    "interact(plot_volumen,\n",
    "         dim=IntSlider(min=2, max=10, step=1, value=4, description=\"Dimensiones\"),\n",
    "         Nsample=IntSlider(min=1000, max=1000000, step=1000, value=10000, description=\"Muestras\"))"
   ]
  }
 ],
 "metadata": {
  "kernelspec": {
   "display_name": "Python 3",
   "language": "python",
   "name": "python3"
  },
  "language_info": {
   "codemirror_mode": {
    "name": "ipython",
    "version": 3
   },
   "file_extension": ".py",
   "mimetype": "text/x-python",
   "name": "python",
   "nbconvert_exporter": "python",
   "pygments_lexer": "ipython3",
   "version": "3.10.4"
  },
  "orig_nbformat": 4
 },
 "nbformat": 4,
 "nbformat_minor": 2
}
