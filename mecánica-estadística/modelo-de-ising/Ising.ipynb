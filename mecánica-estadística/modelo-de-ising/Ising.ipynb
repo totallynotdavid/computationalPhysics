{
 "cells": [
  {
   "cell_type": "markdown",
   "metadata": {},
   "source": [
    "# Modelo de Ising en 3D\n",
    "\n",
    "Autor: David Duran<br>\n",
    "Año: 2023"
   ]
  },
  {
   "cell_type": "code",
   "execution_count": 21,
   "metadata": {},
   "outputs": [],
   "source": [
    "# %pip install mayavi\n",
    "# %pip install pyqt5"
   ]
  },
  {
   "cell_type": "code",
   "execution_count": 22,
   "metadata": {},
   "outputs": [],
   "source": [
    "# Importar paquetes\n",
    "import numpy as np\n",
    "import matplotlib.pyplot as plt\n",
    "import numba\n",
    "from numba import njit\n",
    "from mayavi import mlab\n",
    "from tqdm.notebook import tqdm # Barra de progreso"
   ]
  },
  {
   "cell_type": "code",
   "execution_count": 23,
   "metadata": {},
   "outputs": [],
   "source": [
    "# Lattice\n",
    "tamaño_red = 4\n",
    "\n",
    "# Red tridimensional\n",
    "rejilla = np.random.choice([-1, 1], size=(tamaño_red, tamaño_red, tamaño_red))"
   ]
  },
  {
   "cell_type": "code",
   "execution_count": 24,
   "metadata": {},
   "outputs": [],
   "source": [
    "# Algoritmo de Metropolis para la red 3D\n",
    "@numba.njit(nogil=True)\n",
    "def metropolis(rejilla, pasos, BJ, energia):\n",
    "    # Copiar la rejilla para no modificar la original\n",
    "    rejilla = rejilla.copy()\n",
    "\n",
    "    # Crear arreglos para almacenar la magnetización y la energía\n",
    "    magnetizacion = np.zeros(pasos - 1)\n",
    "    energia_total = np.zeros(pasos - 1)\n",
    "\n",
    "    # Bucle para actualizar la rejilla (loop to update the lattice)\n",
    "    for t in range(0, pasos - 1):\n",
    "        # Seleccionar un punto aleatorio en la rejilla y cambiar el spin\n",
    "        x = np.random.randint(0, tamaño_red)\n",
    "        y = np.random.randint(0, tamaño_red)\n",
    "        z = np.random.randint(0, tamaño_red)\n",
    "\n",
    "        spin_inicial = rejilla[x, y, z]\n",
    "        spin_propuesto = spin_inicial * -1\n",
    "\n",
    "        # Calcular el cambio de energía\n",
    "        energia_inicial = 0\n",
    "        energia_final = 0\n",
    "        vecinos = [\n",
    "            (x - 1, y, z), (x + 1, y, z),\n",
    "            (x, y - 1, z), (x, y + 1, z),\n",
    "            (x, y, z - 1), (x, y, z + 1)\n",
    "        ]\n",
    "        for nx, ny, nz in vecinos:\n",
    "            if 0 <= nx < tamaño_red and 0 <= ny < tamaño_red and 0 <= nz < tamaño_red:\n",
    "                energia_inicial += -spin_inicial * rejilla[nx, ny, nz]\n",
    "                energia_final += -spin_propuesto * rejilla[nx, ny, nz]\n",
    "\n",
    "        # Actualizar el estado con las probabilidades designadas\n",
    "        delta_energia = energia_final - energia_inicial\n",
    "        if (delta_energia > 0) * (np.random.random() < np.exp(-BJ * delta_energia)):\n",
    "            rejilla[x, y, z] = spin_propuesto\n",
    "            energia += delta_energia\n",
    "        elif delta_energia <= 0:\n",
    "            rejilla[x, y, z] = spin_propuesto\n",
    "            energia += delta_energia\n",
    "\n",
    "        # Actualizar la magnetización y la energía total\n",
    "        magnetizacion[t] = rejilla.sum()\n",
    "        energia_total[t] = energia\n",
    "\n",
    "    return {'rejilla': rejilla, 'magnetizacion': magnetizacion, 'energia_total': energia_total}"
   ]
  },
  {
   "cell_type": "code",
   "execution_count": 25,
   "metadata": {},
   "outputs": [
    {
     "ename": "TypeError",
     "evalue": "cannot convert native LiteralStrKey[Dict]({Literal[str](rejilla): array(int64, 3d, C), Literal[str](magnetizacion): array(float64, 1d, C), Literal[str](energia_total): array(float64, 1d, C)}) to Python object",
     "output_type": "error",
     "traceback": [
      "\u001b[1;31m---------------------------------------------------------------------------\u001b[0m",
      "\u001b[1;31mTypeError\u001b[0m                                 Traceback (most recent call last)",
      "Cell \u001b[1;32mIn[25], line 3\u001b[0m\n\u001b[0;32m      1\u001b[0m \u001b[39m# Ejecutar la simulación\u001b[39;00m\n\u001b[0;32m      2\u001b[0m \u001b[39m# magnetizacion, energia_total = metropolis(rejilla, 100000, 0.2, 0)\u001b[39;00m\n\u001b[1;32m----> 3\u001b[0m magnetizacion, energia_total \u001b[39m=\u001b[39m metropolis(rejilla\u001b[39m.\u001b[39;49mastype(np\u001b[39m.\u001b[39;49mint64), \u001b[39m100000\u001b[39;49m, \u001b[39m0.2\u001b[39;49m, \u001b[39m0\u001b[39;49m)\n\u001b[0;32m      5\u001b[0m \u001b[39m# Graficar la magnetización y la energía total\u001b[39;00m\n\u001b[0;32m      6\u001b[0m fig, ejes \u001b[39m=\u001b[39m plt\u001b[39m.\u001b[39msubplots(\u001b[39m1\u001b[39m, \u001b[39m2\u001b[39m, figsize\u001b[39m=\u001b[39m(\u001b[39m12\u001b[39m, \u001b[39m4\u001b[39m))\n",
      "\u001b[1;31mTypeError\u001b[0m: cannot convert native LiteralStrKey[Dict]({Literal[str](rejilla): array(int64, 3d, C), Literal[str](magnetizacion): array(float64, 1d, C), Literal[str](energia_total): array(float64, 1d, C)}) to Python object"
     ]
    }
   ],
   "source": [
    "# Ejecutar la simulación\n",
    "# magnetizacion, energia_total = metropolis(rejilla, 100000, 0.2, 0)\n",
    "magnetizacion, energia_total = metropolis(rejilla.astype(np.int64), 100000, 0.2, 0)\n",
    "\n",
    "# Graficar la magnetización y la energía total\n",
    "fig, ejes = plt.subplots(1, 2, figsize=(12, 4))\n",
    "eje = ejes[0]\n",
    "eje.plot(magnetizacion / tamaño_red ** 3)\n",
    "eje.set_xlabel('Pasos del algoritmo')\n",
    "eje.set_ylabel('Magnetización promedio')\n",
    "eje.grid()\n",
    "\n",
    "eje = ejes[1]\n",
    "eje.plot(energia_total)\n",
    "eje.set_xlabel('Pasos del algoritmo')\n",
    "eje.set_ylabel('Energía')\n",
    "eje.grid()\n",
    "\n",
    "fig.tight_layout()\n",
    "fig.suptitle('Evolución de la magnetización promedio y la energía', y=1.07, size=18)\n",
    "plt.show()"
   ]
  },
  {
   "cell_type": "code",
   "execution_count": null,
   "metadata": {},
   "outputs": [],
   "source": [
    "# %pip install mayavi\n",
    "# %pip install pyqt5"
   ]
  },
  {
   "cell_type": "code",
   "execution_count": null,
   "metadata": {},
   "outputs": [],
   "source": [
    "def visualize_spins(lattice, t, output_dir):\n",
    "    mlab.figure(bgcolor=(1, 1, 1), size=(400, 308))\n",
    "\n",
    "    for i in range(lattice.shape[0]):\n",
    "        for j in range(lattice.shape[1]):\n",
    "            for k in range(lattice.shape[2]):\n",
    "                spin = lattice[i, j, k]\n",
    "                color = (0, 0, 1) if spin == 1 else (1, 0, 0)\n",
    "                mlab.quiver3d(i, j, k, 0, 0, spin, color=color, mode='arrow', scale_factor=0.5)\n",
    "\n",
    "    mlab.savefig(f\"{output_dir}/frame_{t:04d}.png\")\n",
    "    mlab.close()\n",
    "\n",
    "# visualize_spins(rejilla)"
   ]
  },
  {
   "cell_type": "code",
   "execution_count": null,
   "metadata": {},
   "outputs": [],
   "source": [
    "def simulate_and_visualize(rejilla, pasos, BJ, energia, visualization_interval=1000, output_dir=\".\"):\n",
    "    rejilla = rejilla.astype(np.int64)  # Convert to 64-bit integers\n",
    "    num_iterations = pasos // visualization_interval\n",
    "    with tqdm(total=num_iterations) as pbar:\n",
    "        for t in range(num_iterations):\n",
    "            results = metropolis(rejilla, visualization_interval, BJ, energia)\n",
    "            rejilla = results['rejilla']\n",
    "            visualize_spins(rejilla, t, output_dir)\n",
    "            pbar.update()\n",
    "\n",
    "simulate_and_visualize(rejilla, 100000, 0.2, 0, visualization_interval=1000)"
   ]
  }
 ],
 "metadata": {
  "kernelspec": {
   "display_name": "Python 3 (ipykernel)",
   "language": "python",
   "name": "python3"
  },
  "language_info": {
   "codemirror_mode": {
    "name": "ipython",
    "version": 3
   },
   "file_extension": ".py",
   "mimetype": "text/x-python",
   "name": "python",
   "nbconvert_exporter": "python",
   "pygments_lexer": "ipython3",
   "version": "3.10.7"
  }
 },
 "nbformat": 4,
 "nbformat_minor": 2
}
